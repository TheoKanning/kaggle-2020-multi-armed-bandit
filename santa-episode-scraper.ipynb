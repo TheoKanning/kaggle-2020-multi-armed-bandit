{
 "cells": [
  {
   "cell_type": "markdown",
   "metadata": {},
   "source": [
    "上位チームの戦略を知ることは、シミュレーションコンペではとても重要です。過去のシミュレーションコンペ（Halite & Football）では、上位チームの対戦ログを学習したチームが金メダルを取得しています。\n",
    "このnotebookでは、最上位チーム(nagiss)の対戦ログをダウンロードします。\n",
    "\n",
    "Knowing the top team's strategy is very important in Simulation competition. In past simulation competitions (Halite & Football), the team that learned from logs of the top teams got the gold medal.\n",
    "In this notebook, we download the match logs of the top team(nagiss)."
   ]
  },
  {
   "cell_type": "code",
   "execution_count": null,
   "metadata": {
    "_cell_guid": "b1076dfc-b9ad-4769-8c92-a6c4dae69d19",
    "_uuid": "8f2839f25d086af736a60e9eeb907d3b93b6e0e5"
   },
   "outputs": [],
   "source": [
    "import pandas as pd\n",
    "import numpy as np\n",
    "import os\n",
    "import requests\n",
    "import json\n",
    "import datetime\n",
    "import time"
   ]
  },
  {
   "cell_type": "code",
   "execution_count": null,
   "metadata": {
    "_cell_guid": "79c7e3d0-c299-4dcb-8224-4455121ee9b0",
    "_uuid": "d629ff2d2480ee46fbb7e2d37f6b5fab8052498a"
   },
   "outputs": [],
   "source": [
    "BUFFER = 1\n",
    "MIN_SCORE = 1150 #ignore games with teams below this ranking\n",
    "\n",
    "base_url = \"https://www.kaggle.com/requests/EpisodeService/\"\n",
    "get_url = base_url + \"GetEpisodeReplay\"\n",
    "list_url = base_url + \"ListEpisodes\""
   ]
  },
  {
   "cell_type": "code",
   "execution_count": null,
   "metadata": {},
   "outputs": [],
   "source": [
    "# inital team list\n",
    "\n",
    "r = requests.post(list_url, json = {\"submissionId\":  18703109}) # ID is sample value\n",
    "rj = r.json()\n",
    "\n",
    "teams_df = pd.DataFrame(rj['result']['teams'])"
   ]
  },
  {
   "cell_type": "code",
   "execution_count": null,
   "metadata": {},
   "outputs": [],
   "source": [
    "teams_df.sort_values('publicLeaderboardRank', inplace = True)\n",
    "teams_df.head(10)"
   ]
  },
  {
   "cell_type": "markdown",
   "metadata": {},
   "source": [
    "## Get Topteam(nagiss) Episode"
   ]
  },
  {
   "cell_type": "code",
   "execution_count": null,
   "metadata": {},
   "outputs": [],
   "source": [
    "def get_filename(ep_id):\n",
    "    return 'games/{}.json'.format(ep_id)\n",
    "\n",
    "def saveEpisode(sub_id, epid, rj):\n",
    "    # request\n",
    "    re = requests.post(get_url, json = {\"EpisodeId\": int(epid)})\n",
    "        \n",
    "    # save replay\n",
    "    with open(get_filename(epid), 'w') as f:\n",
    "        f.write(re.json()['result']['replay'])\n",
    "\n",
    "    # save episode info\n",
    "#     with open('{}_{}_info.json'.format(sub_id, epid), 'w') as f:\n",
    "#         json.dump([r for r in rj['result']['episodes'] if r['id']==epid][0], f)"
   ]
  },
  {
   "cell_type": "code",
   "execution_count": null,
   "metadata": {},
   "outputs": [],
   "source": [
    "def saveEpisodesForSubmission(sub):\n",
    "    start_time = datetime.datetime.now()\n",
    "    r = BUFFER;\n",
    "    result = requests.post(list_url, json = {\"submissionId\":  int(sub)})\n",
    "    team_json = result.json()\n",
    "    team_df = pd.DataFrame(team_json['result']['episodes'])\n",
    "    team_df.head()\n",
    "    print('{} games for {}'.format(len(team_df), sub))\n",
    "\n",
    "    for i in range(len(team_df)):\n",
    "        agents = team_df.agents.iloc[i]\n",
    "        if agents[0]['initialScore'] is None or agents[0]['initialScore'] is None:\n",
    "            continue\n",
    "        \n",
    "        if agents[0]['initialScore'] < MIN_SCORE or agents[0]['initialScore'] < MIN_SCORE:\n",
    "            continue\n",
    "        \n",
    "        epid = team_df.id.iloc[i]\n",
    "        \n",
    "        filename = get_filename(epid)\n",
    "        if os.path.exists(filename):\n",
    "            continue\n",
    "    \n",
    "        saveEpisode(sub, epid, team_json); r+=1;\n",
    "        try:\n",
    "            size = os.path.getsize(filename) / 1e6\n",
    "            print('Saved Episode #{} @ {:.1f}MB'.format(i, size), end='\\r')\n",
    "        except:\n",
    "            print('file {}.json did not seem to save'.format(epid))    \n",
    "        if r > (datetime.datetime.now() - start_time).seconds:\n",
    "            time.sleep( r - (datetime.datetime.now() - start_time).seconds)\n",
    "    \n",
    "    print('\\r')\n",
    "    "
   ]
  },
  {
   "cell_type": "code",
   "execution_count": null,
   "metadata": {},
   "outputs": [],
   "source": [
    "for sub_id in teams_df['publicLeaderboardSubmissionId'].head(10):\n",
    "    saveEpisodesForSubmission(sub_id)"
   ]
  },
  {
   "cell_type": "code",
   "execution_count": null,
   "metadata": {},
   "outputs": [],
   "source": []
  }
 ],
 "metadata": {
  "kernelspec": {
   "display_name": "Python 3",
   "language": "python",
   "name": "python3"
  },
  "language_info": {
   "codemirror_mode": {
    "name": "ipython",
    "version": 3
   },
   "file_extension": ".py",
   "mimetype": "text/x-python",
   "name": "python",
   "nbconvert_exporter": "python",
   "pygments_lexer": "ipython3",
   "version": "3.6.9"
  }
 },
 "nbformat": 4,
 "nbformat_minor": 4
}
